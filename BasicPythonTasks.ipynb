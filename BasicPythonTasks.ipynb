{
  "nbformat": 4,
  "nbformat_minor": 0,
  "metadata": {
    "colab": {
      "provenance": []
    },
    "kernelspec": {
      "name": "python3",
      "display_name": "Python 3"
    },
    "language_info": {
      "name": "python"
    }
  },
  "cells": [
    {
      "cell_type": "markdown",
      "source": [
        "Lab 1"
      ],
      "metadata": {
        "id": "Y4vyYrkidayP"
      }
    },
    {
      "cell_type": "code",
      "execution_count": null,
      "metadata": {
        "colab": {
          "base_uri": "https://localhost:8080/"
        },
        "id": "2ZwrX2GIdTeg",
        "outputId": "40c84818-49e4-403e-b9f4-b9ad6ee82458"
      },
      "outputs": [
        {
          "output_type": "execute_result",
          "data": {
            "text/plain": [
              "8"
            ]
          },
          "metadata": {},
          "execution_count": 1
        }
      ],
      "source": [
        "#Q1\n",
        "def power(b,e):\n",
        "  c=b**e\n",
        "  return c\n",
        "\n",
        "power(2,5)"
      ]
    },
    {
      "cell_type": "code",
      "source": [
        "#Q2\n",
        "from array import *\n",
        "def subtotal(arr):\n",
        "  t=0\n",
        "  for i in arr:\n",
        "    t+=i\n",
        "    print(t ,end=\" \")\n",
        "def avg(a):\n",
        "  return sum(a)/len(a)\n",
        "  print(avg)\n",
        "arr=array('d', [5.8, 2.6, 9.1,3.4,7.0])\n",
        "subtotal(arr)\n",
        "print(\" \")\n",
        "print(\"Average is \", avg(arr))"
      ],
      "metadata": {
        "colab": {
          "base_uri": "https://localhost:8080/"
        },
        "id": "DmWpfvYWdjd2",
        "outputId": "5924ef76-ceb0-4071-c887-46b46264b88d"
      },
      "execution_count": null,
      "outputs": [
        {
          "output_type": "stream",
          "name": "stdout",
          "text": [
            "5.8 8.4 17.5 20.9 27.9  \n",
            "Average is  5.58\n"
          ]
        }
      ]
    },
    {
      "cell_type": "code",
      "source": [
        "#Q3\n",
        "string=(\"Hello, I am a student of FAST University.\")\n",
        "c1=0\n",
        "c2=0\n",
        "c3=0\n",
        "newstr=\"\"\n",
        "\n",
        "for a in string:\n",
        "    if (a.isupper()) == True:\n",
        "        c1 += 1\n",
        "        newstr += (a.lower())\n",
        "    elif (a.islower()) == True:\n",
        "        c2 += 1\n",
        "        newstr += (a.upper())\n",
        "    elif (a.isspace()) == True:\n",
        "        c3 += 1\n",
        "        newstr += a\n",
        "print(\"Values Returned : \")\n",
        "print(\"Uppercase \", c1)\n",
        "print(\"Lowercase \", c2)\n",
        "print(\"Spaces \", c3)\n",
        "a=len(string.strip())\n",
        "b= a - c3\n",
        "print(\"Total number of letters without spaces are \",b)"
      ],
      "metadata": {
        "id": "172AIRaAhUpJ",
        "colab": {
          "base_uri": "https://localhost:8080/"
        },
        "outputId": "38ed4b27-169c-43f2-fd6b-a81283566442"
      },
      "execution_count": null,
      "outputs": [
        {
          "output_type": "stream",
          "name": "stdout",
          "text": [
            "Values Returned : \n",
            "Uppercase  7\n",
            "Lowercase  25\n",
            "Spaces  7\n",
            "Total number of letters without spaces are  34\n"
          ]
        }
      ]
    },
    {
      "cell_type": "code",
      "source": [
        "#Q4\n",
        "def median(a,b):\n",
        "  a.extend(b)\n",
        "  a.sort()\n",
        "  mid=len(a) // 2\n",
        "  if len(a) % 2 ==0:\n",
        "    return (a[mid - 1] + a[mid]) / 2.0\n",
        "  else:\n",
        "    return float(a[mid])\n",
        "\n",
        "a=[1,2]\n",
        "b=[3,4]\n",
        "median=median(a,b)\n",
        "print(median)\n",
        "#T.C is O(log(m+n))"
      ],
      "metadata": {
        "colab": {
          "base_uri": "https://localhost:8080/"
        },
        "id": "6vS5Ft6cqGYl",
        "outputId": "8c68299d-3035-4c8d-e037-9e89a003d005"
      },
      "execution_count": null,
      "outputs": [
        {
          "output_type": "stream",
          "name": "stdout",
          "text": [
            "2.5\n"
          ]
        }
      ]
    }
  ]
}